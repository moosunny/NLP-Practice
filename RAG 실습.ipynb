{
  "cells": [
    {
      "cell_type": "markdown",
      "id": "a0f37fd3-9398-4de8-885e-8244867d9815",
      "metadata": {
        "id": "a0f37fd3-9398-4de8-885e-8244867d9815"
      },
      "source": [
        "## 1. OpenAIEmbeddings 클래스를 사용해 문장 임베딩을 해보세요.\n",
        "\n",
        "— 선택 —\n",
        "4. 자신이 생각하는 가장 깔끔한 트랜스포머 모델을 파이토치로 구현하고 리얼한 데이터셋으로 학습과 추론을 해보세요.\n",
        "\n",
        "5. 4번의 코드를 바탕으로 트랜스포머의 얼개를 설명하는 보고서를 작성해보세요."
      ]
    },
    {
      "cell_type": "code",
      "execution_count": null,
      "id": "4fb97b92-a732-468c-a382-16205231e4f0",
      "metadata": {
        "id": "4fb97b92-a732-468c-a382-16205231e4f0"
      },
      "outputs": [],
      "source": [
        "import os\n",
        "api_key = \"Open_API_KEY\"\n",
        "os.environ['OPENAI_API_KEY'] = api_key\n",
        "\n",
        "from openai import OpenAI\n",
        "\n",
        "client = OpenAI()"
      ]
    },
    {
      "cell_type": "code",
      "execution_count": null,
      "id": "dcb76669-fb3f-424f-b21f-a4aae81605fe",
      "metadata": {
        "id": "dcb76669-fb3f-424f-b21f-a4aae81605fe",
        "outputId": "3d14b329-1d7e-4f21-9aab-571cc2b4f8de"
      },
      "outputs": [
        {
          "name": "stdout",
          "output_type": "stream",
          "text": [
            "1536\n"
          ]
        }
      ],
      "source": [
        "response = client.embeddings.create(\n",
        "    input= \"안녕하세요. 제 이름은 Kai 입니다.\",\n",
        "    model = \"text-embedding-3-small\"\n",
        ")\n",
        "\n",
        "embedded = response.data[0].embedding\n",
        "print(len(embedded))"
      ]
    },
    {
      "cell_type": "code",
      "execution_count": null,
      "id": "858e2660-2a8d-47bb-b22a-828b22554a66",
      "metadata": {
        "id": "858e2660-2a8d-47bb-b22a-828b22554a66",
        "outputId": "c589012c-cce2-4ae6-e41b-5a217b7ce6ca"
      },
      "outputs": [
        {
          "name": "stdout",
          "output_type": "stream",
          "text": [
            "출력 임베딩 개수: 3\n",
            "임베딩 차원: 1536\n"
          ]
        }
      ],
      "source": [
        "corpus = [\"저는 한국 사람 입니다.\",\n",
        "          \"오늘 날씨가 너무 좋아요.\",\n",
        "          \"내일 일정은 어떻게 되는지 아시나요?\"] # 여러 문장을 한번에 임베딩\n",
        "\n",
        "response = client.embeddings.create(\n",
        "    input = corpus,\n",
        "    model = \"text-embedding-3-small\"\n",
        ")\n",
        "\n",
        "embedded_result = [data.embedding for data in response.data]\n",
        "print(\"출력 임베딩 개수:\",len(embedded_result))\n",
        "print(\"임베딩 차원:\",len(embedded_result[0]))"
      ]
    },
    {
      "cell_type": "markdown",
      "id": "853d758f-f0ce-473a-8465-c54b7c7eeceb",
      "metadata": {
        "id": "853d758f-f0ce-473a-8465-c54b7c7eeceb"
      },
      "source": [
        "## 2. 사용자의 상황이나 배경을 제공해주면 그에 따라 이메일 양식을 만들어주는 챗봇을 만들어보세요.\n",
        "ex) 거래처에 새해 인사와 함께 신규 계약건에 대해 이메일을 보내야한다."
      ]
    },
    {
      "cell_type": "code",
      "execution_count": null,
      "id": "591d201d-5e7a-423e-8af3-abb2a0d90535",
      "metadata": {
        "colab": {
          "referenced_widgets": [
            "1e5f8fa28d5346759608ceb534aeeff5",
            "b73d3cb0e2e24e018442fbcd6ceef4ba",
            "c3e43aff951d441c8a3003515e394825",
            "75451ece46f84515989d334c9982c867",
            "bf7c2a658b8f4513ba206c2e17404ba0",
            "765bdc33c8ed430292abe8e401f86d3c",
            "015071f1b99f4085aaa2c98f63c47e00",
            "90a41b322d5e47e484d392bab5c8e01b",
            "69ee7506036942d288b9b6973989ce61",
            "3f45f3fa9792448c8694732e23cb2ec6",
            "c3235511c6794982b8aeb7ceac7a29c0",
            "5dd38a37884d4cceadea27b638c1bc5f"
          ]
        },
        "id": "591d201d-5e7a-423e-8af3-abb2a0d90535",
        "outputId": "7a4407df-e072-4b6b-9650-8a817875252b"
      },
      "outputs": [
        {
          "data": {
            "application/vnd.jupyter.widget-view+json": {
              "model_id": "1e5f8fa28d5346759608ceb534aeeff5",
              "version_major": 2,
              "version_minor": 0
            },
            "text/plain": [
              "tokenizer_config.json:   0%|          | 0.00/51.0k [00:00<?, ?B/s]"
            ]
          },
          "metadata": {},
          "output_type": "display_data"
        },
        {
          "data": {
            "application/vnd.jupyter.widget-view+json": {
              "model_id": "b73d3cb0e2e24e018442fbcd6ceef4ba",
              "version_major": 2,
              "version_minor": 0
            },
            "text/plain": [
              "tokenizer.json:   0%|          | 0.00/9.09M [00:00<?, ?B/s]"
            ]
          },
          "metadata": {},
          "output_type": "display_data"
        },
        {
          "data": {
            "application/vnd.jupyter.widget-view+json": {
              "model_id": "c3e43aff951d441c8a3003515e394825",
              "version_major": 2,
              "version_minor": 0
            },
            "text/plain": [
              "special_tokens_map.json:   0%|          | 0.00/73.0 [00:00<?, ?B/s]"
            ]
          },
          "metadata": {},
          "output_type": "display_data"
        },
        {
          "data": {
            "application/vnd.jupyter.widget-view+json": {
              "model_id": "75451ece46f84515989d334c9982c867",
              "version_major": 2,
              "version_minor": 0
            },
            "text/plain": [
              "config.json:   0%|          | 0.00/654 [00:00<?, ?B/s]"
            ]
          },
          "metadata": {},
          "output_type": "display_data"
        },
        {
          "data": {
            "application/vnd.jupyter.widget-view+json": {
              "model_id": "bf7c2a658b8f4513ba206c2e17404ba0",
              "version_major": 2,
              "version_minor": 0
            },
            "text/plain": [
              "model.safetensors.index.json:   0%|          | 0.00/23.9k [00:00<?, ?B/s]"
            ]
          },
          "metadata": {},
          "output_type": "display_data"
        },
        {
          "data": {
            "application/vnd.jupyter.widget-view+json": {
              "model_id": "765bdc33c8ed430292abe8e401f86d3c",
              "version_major": 2,
              "version_minor": 0
            },
            "text/plain": [
              "Downloading shards:   0%|          | 0/4 [00:00<?, ?it/s]"
            ]
          },
          "metadata": {},
          "output_type": "display_data"
        },
        {
          "data": {
            "application/vnd.jupyter.widget-view+json": {
              "model_id": "015071f1b99f4085aaa2c98f63c47e00",
              "version_major": 2,
              "version_minor": 0
            },
            "text/plain": [
              "model-00001-of-00004.safetensors:   0%|          | 0.00/4.98G [00:00<?, ?B/s]"
            ]
          },
          "metadata": {},
          "output_type": "display_data"
        },
        {
          "data": {
            "application/vnd.jupyter.widget-view+json": {
              "model_id": "90a41b322d5e47e484d392bab5c8e01b",
              "version_major": 2,
              "version_minor": 0
            },
            "text/plain": [
              "model-00002-of-00004.safetensors:   0%|          | 0.00/5.00G [00:00<?, ?B/s]"
            ]
          },
          "metadata": {},
          "output_type": "display_data"
        },
        {
          "data": {
            "application/vnd.jupyter.widget-view+json": {
              "model_id": "69ee7506036942d288b9b6973989ce61",
              "version_major": 2,
              "version_minor": 0
            },
            "text/plain": [
              "model-00003-of-00004.safetensors:   0%|          | 0.00/4.92G [00:00<?, ?B/s]"
            ]
          },
          "metadata": {},
          "output_type": "display_data"
        },
        {
          "data": {
            "application/vnd.jupyter.widget-view+json": {
              "model_id": "3f45f3fa9792448c8694732e23cb2ec6",
              "version_major": 2,
              "version_minor": 0
            },
            "text/plain": [
              "model-00004-of-00004.safetensors:   0%|          | 0.00/1.17G [00:00<?, ?B/s]"
            ]
          },
          "metadata": {},
          "output_type": "display_data"
        },
        {
          "data": {
            "application/vnd.jupyter.widget-view+json": {
              "model_id": "c3235511c6794982b8aeb7ceac7a29c0",
              "version_major": 2,
              "version_minor": 0
            },
            "text/plain": [
              "Loading checkpoint shards:   0%|          | 0/4 [00:00<?, ?it/s]"
            ]
          },
          "metadata": {},
          "output_type": "display_data"
        },
        {
          "data": {
            "application/vnd.jupyter.widget-view+json": {
              "model_id": "5dd38a37884d4cceadea27b638c1bc5f",
              "version_major": 2,
              "version_minor": 0
            },
            "text/plain": [
              "generation_config.json:   0%|          | 0.00/187 [00:00<?, ?B/s]"
            ]
          },
          "metadata": {},
          "output_type": "display_data"
        },
        {
          "name": "stderr",
          "output_type": "stream",
          "text": [
            "Device set to use cuda:0\n",
            "Setting `pad_token_id` to `eos_token_id`:128009 for open-end generation.\n"
          ]
        },
        {
          "name": "stdout",
          "output_type": "stream",
          "text": [
            "{'role': 'assistant', 'content': \"Here is an email to Alex with New Year's greetings:\\n\\nSubject: Happy New Year! - Update on Large-Scale LLM Model\\n\\nDear Alex,\\n\\nHappy New Year! As we step into a new year, I would like to take this opportunity to express my gratitude for the trust and support you have shown us throughout the year. We are thrilled to start this new chapter together.\\n\\nI am excited to inform you that our team has successfully completed the development of the large-scale LLM model, which has finished learning and is now available for delivery. This achievement is a testament to our team's dedication and expertise, and we are confident that it will bring significant value to your business.\\n\\nWe believe that this model will be a game-changer for your company, and we are eager to see the innovative applications you will come up with. Our team is committed to providing you with the best possible support and services to ensure a smooth integration and successful implementation.\\n\\nOnce again, thank you for your continued trust and support. We wish you and your team a happy, healthy, and prosperous new year.\\n\\nBest regards,\\nKai\"}\n"
          ]
        }
      ],
      "source": [
        "from transformers import AutoTokenizer\n",
        "import transformers\n",
        "import torch\n",
        "\n",
        "HF_TOKEN = \"HuggingFace_Token\"\n",
        "\n",
        "# 모델로딩\n",
        "model = \"meta-llama/Meta-Llama-3-8B-Instruct\" #meta-llama/Meta-Llama-3-8B-Instruct 모델\n",
        "tokenizer = AutoTokenizer.from_pretrained(\n",
        "    model,\n",
        "    token=HF_TOKEN,    #토큰 입력부\n",
        ")\n",
        "\n",
        "pipeline = transformers.pipeline(\n",
        "    \"text-generation\",\n",
        "    model=model,\n",
        "    model_kwargs={\"torch_dtype\": torch.bfloat16},\n",
        "    device_map=\"auto\",\n",
        "    token=HF_TOKEN,    #토큰 입력부\n",
        ")\n",
        "\n",
        "messages = [\n",
        "    {\"role\": \"system\", \"content\": \"You need to send an email to a client with New Year's greetings about a new contract, but you need to address the email to a public audience. Answer in Korean unless otherwise specified\"},\n",
        "    {\"role\": \"user\", \"content\": \"My name is Kai, please write Alex a mail with New Year's greetings and let him know that the newly developed large-scale LLM model is finished learning and available for delivery.\"},\n",
        "]\n",
        "\n",
        "terminators = [\n",
        "    pipeline.tokenizer.eos_token_id,\n",
        "    pipeline.tokenizer.convert_tokens_to_ids(\"<|eot_id|>\")\n",
        "]\n",
        "\n",
        "outputs = pipeline(\n",
        "    messages,\n",
        "    max_new_tokens=512,\n",
        "    eos_token_id=terminators,\n",
        "    do_sample=True,\n",
        "    temperature=0.6,\n",
        "    top_p=0.9,\n",
        ")\n",
        "print(outputs[0][\"generated_text\"][-1])"
      ]
    },
    {
      "cell_type": "code",
      "execution_count": null,
      "id": "17ac8d45-0938-46fb-9166-5876a21e2194",
      "metadata": {
        "id": "17ac8d45-0938-46fb-9166-5876a21e2194",
        "outputId": "623aa8f5-957b-4104-f781-8a03af18d855"
      },
      "outputs": [
        {
          "name": "stdout",
          "output_type": "stream",
          "text": [
            "Here is an email to Alex with New Year's greetings:  Subject: Happy New Year! -\n",
            "Update on Large-Scale LLM Model  Dear Alex,  Happy New Year! As we step into a\n",
            "new year, I would like to take this opportunity to express my gratitude for the\n",
            "trust and support you have shown us throughout the year. We are thrilled to\n",
            "start this new chapter together.  I am excited to inform you that our team has\n",
            "successfully completed the development of the large-scale LLM model, which has\n",
            "finished learning and is now available for delivery. This achievement is a\n",
            "testament to our team's dedication and expertise, and we are confident that it\n",
            "will bring significant value to your business.  We believe that this model will\n",
            "be a game-changer for your company, and we are eager to see the innovative\n",
            "applications you will come up with. Our team is committed to providing you with\n",
            "the best possible support and services to ensure a smooth integration and\n",
            "successful implementation.  Once again, thank you for your continued trust and\n",
            "support. We wish you and your team a happy, healthy, and prosperous new year.\n",
            "Best regards, Kai\n"
          ]
        }
      ],
      "source": [
        "generated_text = outputs[0][\"generated_text\"][-1][\"content\"]\n",
        "\n",
        "import textwrap\n",
        "\n",
        "def pretty_print(text, width=80):\n",
        "    wrapped_text = textwrap.fill(text, width=width)\n",
        "    print(wrapped_text)\n",
        "\n",
        "pretty_print(generated_text)"
      ]
    },
    {
      "cell_type": "markdown",
      "id": "a9149c2a-7954-4c8d-83d6-9941a1568d04",
      "metadata": {
        "id": "a9149c2a-7954-4c8d-83d6-9941a1568d04"
      },
      "source": [
        "## 3. 최신 뉴스를 브리핑 해주는 챗봇을 만들어보세요."
      ]
    },
    {
      "cell_type": "code",
      "execution_count": null,
      "id": "6214fac4-726b-4eb0-9a7b-a3d7a81ce6b3",
      "metadata": {
        "id": "6214fac4-726b-4eb0-9a7b-a3d7a81ce6b3",
        "outputId": "4c0226a3-9458-4485-c9e9-28ebe6f33173"
      },
      "outputs": [
        {
          "name": "stderr",
          "output_type": "stream",
          "text": [
            "/usr/local/lib/python3.10/dist-packages/openpyxl/styles/stylesheet.py:237: UserWarning: Workbook contains no default style, apply openpyxl's default\n",
            "  warn(\"Workbook contains no default style, apply openpyxl's default\")\n"
          ]
        },
        {
          "name": "stdout",
          "output_type": "stream",
          "text": [
            "Index(['뉴스 식별자', '일자', '언론사', '기고자', '제목', '통합 분류1', '통합 분류2', '통합 분류3',\n",
            "       '사건/사고 분류1', '사건/사고 분류2', '사건/사고 분류3', '인물', '위치', '기관', '키워드',\n",
            "       '특성추출(가중치순 상위 50개)', '본문', 'URL', '분석제외 여부'],\n",
            "      dtype='object')\n"
          ]
        },
        {
          "data": {
            "text/html": [
              "<div>\n",
              "<style scoped>\n",
              "    .dataframe tbody tr th:only-of-type {\n",
              "        vertical-align: middle;\n",
              "    }\n",
              "\n",
              "    .dataframe tbody tr th {\n",
              "        vertical-align: top;\n",
              "    }\n",
              "\n",
              "    .dataframe thead th {\n",
              "        text-align: right;\n",
              "    }\n",
              "</style>\n",
              "<table border=\"1\" class=\"dataframe\">\n",
              "  <thead>\n",
              "    <tr style=\"text-align: right;\">\n",
              "      <th></th>\n",
              "      <th>일자</th>\n",
              "      <th>언론사</th>\n",
              "      <th>기고자</th>\n",
              "      <th>제목</th>\n",
              "      <th>본문</th>\n",
              "    </tr>\n",
              "  </thead>\n",
              "  <tbody>\n",
              "    <tr>\n",
              "      <th>0</th>\n",
              "      <td>20250318</td>\n",
              "      <td>데일리안</td>\n",
              "      <td>데일리안 이소영 기자 (sy@dailian.co.kr)</td>\n",
              "      <td>아스트라제네카는 왜 알테오젠에 2조원을 베팅했을까</td>\n",
              "      <td>알테오젠이 글로벌 빅파마인 아스트라제네카(AZ)와 2조원 규모의 초대형 계약을 체결...</td>\n",
              "    </tr>\n",
              "    <tr>\n",
              "      <th>1</th>\n",
              "      <td>20250318</td>\n",
              "      <td>아시아투데이</td>\n",
              "      <td>NaN</td>\n",
              "      <td>[포토]포멜라토, ‘디 아트 오브 누도’ 팝업 개최...우아한 매력의 배우 임수정</td>\n",
              "      <td>아시아투데이 박상선 기자 = 이탈리아 주얼리 브랜드 메종 포멜라토(Pomellato...</td>\n",
              "    </tr>\n",
              "    <tr>\n",
              "      <th>2</th>\n",
              "      <td>20250318</td>\n",
              "      <td>이데일리</td>\n",
              "      <td>이소현</td>\n",
              "      <td>5분 충전에 400㎞ 달린다 진격의 BYD, 주가 사상 최고치</td>\n",
              "      <td>[이데일리 이소현 기자] 중국 전기차 제조업체 BYD(비야디)가 5분 만에 400㎞...</td>\n",
              "    </tr>\n",
              "    <tr>\n",
              "      <th>3</th>\n",
              "      <td>20250318</td>\n",
              "      <td>내일신문</td>\n",
              "      <td>김상범</td>\n",
              "      <td>미 러 화해 기대에 러 채권 루블 투자 ‘꿈틀’</td>\n",
              "      <td>서방 투자자들, NDF로 제재 우회 \\n러 기업채권 기대감도 상승 중 \\n\\n도널드...</td>\n",
              "    </tr>\n",
              "    <tr>\n",
              "      <th>4</th>\n",
              "      <td>20250318</td>\n",
              "      <td>뉴스핌</td>\n",
              "      <td>송은정</td>\n",
              "      <td>한국P&amp;G, 상반기 채용전환형 인턴 모집 내달 13일 서류 마감</td>\n",
              "      <td>[서울=뉴스핌] 송은정 기자 = 한국P&amp;G가 오는 4월 13일까지 2025년 상반기...</td>\n",
              "    </tr>\n",
              "  </tbody>\n",
              "</table>\n",
              "</div>"
            ],
            "text/plain": [
              "         일자     언론사                             기고자  \\\n",
              "0  20250318    데일리안  데일리안 이소영 기자 (sy@dailian.co.kr)   \n",
              "1  20250318  아시아투데이                             NaN   \n",
              "2  20250318    이데일리                             이소현   \n",
              "3  20250318    내일신문                             김상범   \n",
              "4  20250318     뉴스핌                             송은정   \n",
              "\n",
              "                                              제목  \\\n",
              "0                    아스트라제네카는 왜 알테오젠에 2조원을 베팅했을까   \n",
              "1  [포토]포멜라토, ‘디 아트 오브 누도’ 팝업 개최...우아한 매력의 배우 임수정   \n",
              "2             5분 충전에 400㎞ 달린다 진격의 BYD, 주가 사상 최고치   \n",
              "3                     미 러 화해 기대에 러 채권 루블 투자 ‘꿈틀’   \n",
              "4            한국P&G, 상반기 채용전환형 인턴 모집 내달 13일 서류 마감   \n",
              "\n",
              "                                                  본문  \n",
              "0  알테오젠이 글로벌 빅파마인 아스트라제네카(AZ)와 2조원 규모의 초대형 계약을 체결...  \n",
              "1  아시아투데이 박상선 기자 = 이탈리아 주얼리 브랜드 메종 포멜라토(Pomellato...  \n",
              "2  [이데일리 이소현 기자] 중국 전기차 제조업체 BYD(비야디)가 5분 만에 400㎞...  \n",
              "3  서방 투자자들, NDF로 제재 우회 \\n러 기업채권 기대감도 상승 중 \\n\\n도널드...  \n",
              "4  [서울=뉴스핌] 송은정 기자 = 한국P&G가 오는 4월 13일까지 2025년 상반기...  "
            ]
          },
          "execution_count": 15,
          "metadata": {},
          "output_type": "execute_result"
        }
      ],
      "source": [
        "import pandas as pd\n",
        "\n",
        "# 빅카인즈 사이트를 통해 3/17~3/18 기간 동안 경제 카테고리 뉴스 다운로드\n",
        "# https://www.bigkinds.or.kr\n",
        "\n",
        "df_news = pd.read_excel('NewsResult_20250317-20250318.xlsx')\n",
        "print(df_news.columns)\n",
        "df_news = df_news[['일자', '언론사', '기고자','제목', '본문']]\n",
        "df_news.head()"
      ]
    },
    {
      "cell_type": "code",
      "execution_count": null,
      "id": "6b1cf522-8513-45fe-b2b0-2c1142b807fa",
      "metadata": {
        "id": "6b1cf522-8513-45fe-b2b0-2c1142b807fa"
      },
      "outputs": [],
      "source": [
        "from langchain import hub\n",
        "from langchain.chat_models import init_chat_model\n",
        "from langchain_openai import OpenAIEmbeddings\n",
        "from langchain_core.vectorstores import InMemoryVectorStore\n",
        "from langchain_core.documents import Document\n",
        "from langchain_community.document_loaders import DataFrameLoader\n",
        "from langchain_text_splitters import RecursiveCharacterTextSplitter\n",
        "from langgraph.graph import START, StateGraph\n",
        "from typing_extensions import List, TypedDict\n",
        "\n",
        "# LLM 정의\n",
        "llm = init_chat_model(\"gpt-4o-mini\", model_provider=\"openai\")\n",
        "# Embedding 모델 정의\n",
        "embeddings = OpenAIEmbeddings(model=\"text-embedding-3-large\")\n",
        "# Vector store\n",
        "vector_store = InMemoryVectorStore(embeddings)"
      ]
    },
    {
      "cell_type": "code",
      "execution_count": null,
      "id": "f04e6fec-60b4-40d0-a6e9-aed1f54a3df3",
      "metadata": {
        "id": "f04e6fec-60b4-40d0-a6e9-aed1f54a3df3",
        "outputId": "af1d1379-e391-44a3-9aae-96e2f206adb5"
      },
      "outputs": [
        {
          "data": {
            "text/plain": [
              "[Document(metadata={'일자': 20250318, '언론사': '데일리안', '기고자': '데일리안 이소영 기자 (sy@dailian.co.kr)', '제목': '아스트라제네카는 왜 알테오젠에 2조원을 베팅했을까'}, page_content=\"알테오젠이 글로벌 빅파마인 아스트라제네카(AZ)와 2조원 규모의 초대형 계약을 체결했다. 이로써 알테오젠은 글로벌 빅파마와의 총 계약 규모를 9조원으로 늘리는 것은 물론, '특허 분쟁 리스크' 또한 원만히 해결될 가능성을 높였다.\\n\\n\\n지난 17일 알테오젠은 아스트라제네카의 자회사인 메드이뮨 미국 영국 법인과 피하주사(SC) 제형 변경 플랫폼 ‘ALT-B..\"),\n",
              " Document(metadata={'일자': 20250318, '언론사': '아시아투데이', '기고자': nan, '제목': '[포토]포멜라토, ‘디 아트 오브 누도’ 팝업 개최...우아한 매력의 배우 임수정'}, page_content='아시아투데이 박상선 기자 = 이탈리아 주얼리 브랜드 메종 포멜라토(Pomellato)가 누도(Nudo) 컬렉션 신제품 론칭을 기념해 18일 서울 서초구 신세계백화점 강남점에서 ‘디 아트 오브 누도(The Art of Nudo)’ 팝업 행사를 개최했다.\\n\\n 이날 행사에는 배우 임수정과 걸그룹 있지(ITZY)의 멤버 예지가 참석해 포토타임을 갖고 포멜라토의..'),\n",
              " Document(metadata={'일자': 20250318, '언론사': '이데일리', '기고자': '이소현', '제목': '5분 충전에 400㎞ 달린다 진격의 BYD, 주가 사상 최고치'}, page_content='[이데일리 이소현 기자] 중국 전기차 제조업체 BYD(비야디)가 5분 만에 400㎞ 주행이 가능한 초고속 배터리 충전 기술을 공개하며 전기차 시장에서 게임체인저로 떠올랐다.\\n\\n‘슈퍼 e-플랫폼’을 소개하고 있는 왕촨푸 BYD 회장(사진=BYD 웨이보 갈무리)\\n\\n블룸버그통신에 따르면 홍콩 증시에 상장된 BYD 주가는 18일 개장과 동시에 최대 6% 상승해..'),\n",
              " Document(metadata={'일자': 20250318, '언론사': '내일신문', '기고자': '김상범', '제목': '미 러 화해 기대에 러 채권 루블 투자 ‘꿈틀’'}, page_content='서방 투자자들, NDF로 제재 우회 \\n러 기업채권 기대감도 상승 중 \\n\\n도널드 트럼프 미국 대통령과 블라디미르 푸틴 러시아 대통령 간 화해 가능성이 거론되면서 글로벌 투자자들이 서방 제재를 우회해 러시아 채권과 루블화에 투자하는 방안을 적극 모색하는 움직임이 나타나고 있다고 영국 일간 파이낸셜타임스(FT)가 17일(현지시간) 보도했다. \\n \\n\\n특히 역외..'),\n",
              " Document(metadata={'일자': 20250318, '언론사': '뉴스핌', '기고자': '송은정', '제목': '한국P&G, 상반기 채용전환형 인턴 모집 내달 13일 서류 마감'}, page_content='[서울=뉴스핌] 송은정 기자 =\\xa0한국P&G가 오는 4월 13일까지 2025년 상반기 채용전환형 인턴을 공개 모집한다고 18일 밝혔다. \\n \\n\\n \\n\\n \\n \\n\\n \\n 한국P&G가 오는 4월 13일까지 2025년 상반기 채용전환형 인턴을 공개 모집한다고 18일 밝혔다. [사진=한국P&G]\\n\\n\\n\\n 올 상반기 인턴십 모집은 ▲영업마케팅(Sales Marketing..')]"
            ]
          },
          "execution_count": 41,
          "metadata": {},
          "output_type": "execute_result"
        }
      ],
      "source": [
        "# Dataframe data loader\n",
        "loader = DataFrameLoader(df_news, page_content_column = \"본문\")\n",
        "data = loader.load()\n",
        "data[:5]"
      ]
    },
    {
      "cell_type": "code",
      "execution_count": null,
      "id": "102d8142-a04a-4a92-bf1e-f4eb3464bb1d",
      "metadata": {
        "id": "102d8142-a04a-4a92-bf1e-f4eb3464bb1d",
        "outputId": "cc252342-7cb3-4f82-c136-29d8fec2358f"
      },
      "outputs": [
        {
          "name": "stderr",
          "output_type": "stream",
          "text": [
            "/usr/local/lib/python3.10/dist-packages/langsmith/client.py:253: LangSmithMissingAPIKeyWarning: API key must be provided when using hosted LangSmith API\n",
            "  warnings.warn(\n"
          ]
        }
      ],
      "source": [
        "text_splitter = RecursiveCharacterTextSplitter(chunk_size=1000, chunk_overlap=200)\n",
        "all_splits = text_splitter.split_documents(data)\n",
        "\n",
        "_ = vector_store.add_documents(documents=all_splits)\n",
        "\n",
        "# Define prompt for question-answering\n",
        "prompt = hub.pull(\"rlm/rag-prompt\")\n",
        "\n",
        "\n",
        "# Define state for application\n",
        "class State(TypedDict):\n",
        "    question: str\n",
        "    context: List[Document]\n",
        "    answer: str"
      ]
    },
    {
      "cell_type": "code",
      "execution_count": null,
      "id": "f0a04f9a-fb90-41f1-8091-6ab8b3a9647a",
      "metadata": {
        "id": "f0a04f9a-fb90-41f1-8091-6ab8b3a9647a"
      },
      "outputs": [],
      "source": [
        "# Define application steps\n",
        "def retrieve(state: State):\n",
        "    retrieved_docs = vector_store.similarity_search(state[\"question\"])\n",
        "    return {\"context\": retrieved_docs}\n",
        "\n",
        "\n",
        "def generate(state: State):\n",
        "    docs_content = \"\\n\\n\".join(doc.page_content for doc in state[\"context\"])\n",
        "    messages = prompt.invoke({\"question\": state[\"question\"], \"context\": docs_content})\n",
        "    response = llm.invoke(messages)\n",
        "    return {\"answer\": response.content}\n",
        "\n",
        "# Compile application and test\n",
        "graph_builder = StateGraph(State).add_sequence([retrieve, generate])\n",
        "graph_builder.add_edge(START, \"retrieve\")\n",
        "graph = graph_builder.compile()"
      ]
    },
    {
      "cell_type": "code",
      "execution_count": null,
      "id": "20211787-fd61-470d-8791-edd72f7d8330",
      "metadata": {
        "id": "20211787-fd61-470d-8791-edd72f7d8330",
        "outputId": "dceeb301-4f08-4be0-b21e-76c8a5d692c8"
      },
      "outputs": [
        {
          "name": "stdout",
          "output_type": "stream",
          "text": [
            "최근 BYD가 자사의 '슈퍼 e-플랫폼'을 통해 새로운 전기차 모델 두 가지를 출시하고 다음달 판매를 시작한다고 발표했습니다. 이 플랫폼은 충전 시간을 대폭 단축할 수 있는 배터리와 충전 시설을 포함하여, 전기차 대중화의 장벽을 낮추고 있습니다. 그러나 중국 시장에서 현지 전기차 제조업체들의 성장이 가파르며, 글로벌 완성차 업체들은 경쟁력을 확보하기 위해 전략을 재조정하고 있습니다.\n"
          ]
        }
      ],
      "source": [
        "response = graph.invoke({\"question\": \"최근에 중국 전기차와 관련된 뉴스 요약해줘\"})\n",
        "print(response[\"answer\"])"
      ]
    },
    {
      "cell_type": "code",
      "execution_count": null,
      "id": "07d2e620-f1ca-4b54-ae0a-98d6a78d44e2",
      "metadata": {
        "id": "07d2e620-f1ca-4b54-ae0a-98d6a78d44e2",
        "outputId": "25968506-2880-4506-d6d2-8af13690a53c"
      },
      "outputs": [
        {
          "data": {
            "text/plain": [
              "Document(metadata={'일자': 20250318, '언론사': '이데일리', '기고자': '이소현', '제목': '5분 충전에 400㎞ 달린다 진격의 BYD, 주가 사상 최고치'}, page_content='[이데일리 이소현 기자] 중국 전기차 제조업체 BYD(비야디)가 5분 만에 400㎞ 주행이 가능한 초고속 배터리 충전 기술을 공개하며 전기차 시장에서 게임체인저로 떠올랐다.\\n\\n‘슈퍼 e-플랫폼’을 소개하고 있는 왕촨푸 BYD 회장(사진=BYD 웨이보 갈무리)\\n\\n블룸버그통신에 따르면 홍콩 증시에 상장된 BYD 주가는 18일 개장과 동시에 최대 6% 상승해..')"
            ]
          },
          "execution_count": 47,
          "metadata": {},
          "output_type": "execute_result"
        }
      ],
      "source": [
        "data[2] #실제 기사 내용(중국 전기차 제조 업체 BYD 관련 기사)"
      ]
    }
  ],
  "metadata": {
    "colab": {
      "provenance": []
    },
    "kernelspec": {
      "display_name": "Python 3 (ipykernel)",
      "language": "python",
      "name": "python3"
    },
    "language_info": {
      "codemirror_mode": {
        "name": "ipython",
        "version": 3
      },
      "file_extension": ".py",
      "mimetype": "text/x-python",
      "name": "python",
      "nbconvert_exporter": "python",
      "pygments_lexer": "ipython3",
      "version": "3.10.12"
    }
  },
  "nbformat": 4,
  "nbformat_minor": 5
}
